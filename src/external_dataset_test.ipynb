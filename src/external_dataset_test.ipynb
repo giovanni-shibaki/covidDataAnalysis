{
 "cells": [
  {
   "cell_type": "code",
   "execution_count": null,
   "metadata": {
    "collapsed": true
   },
   "outputs": [],
   "source": []
  },
  {
   "cell_type": "markdown",
   "source": [
    "# Rio Grande do Sul COVID cases Data Analysis\n",
    "---"
   ],
   "metadata": {
    "collapsed": false
   }
  },
  {
   "cell_type": "code",
   "execution_count": 2,
   "outputs": [],
   "source": [
    "import pandas as pd\n",
    "import numpy as np\n",
    "import matplotlib.pyplot as plt"
   ],
   "metadata": {
    "collapsed": false,
    "pycharm": {
     "name": "#%%\n"
    }
   }
  },
  {
   "cell_type": "markdown",
   "source": [
    "## Step 1: Merge all data-sets"
   ],
   "metadata": {
    "collapsed": false
   }
  },
  {
   "cell_type": "code",
   "execution_count": 9,
   "outputs": [
    {
     "name": "stdout",
     "output_type": "stream",
     "text": [
      "          ÿid           dataNotificacao        dataInicioSintomas  \\\n",
      "0  HE8B8WiBpk  2020-08-25T03:00:37.280Z  2020-08-24T03:00:00.000Z   \n",
      "1  IfUV4kqF1I  2020-08-17T03:00:48.914Z  2020-08-03T03:00:00.000Z   \n",
      "2  auCqY2SQ4w  2020-06-26T17:37:33.237Z  2020-06-10T03:00:00.000Z   \n",
      "3  R8MGrEmw1z  2020-06-26T03:00:00.000Z  2020-06-26T03:00:00.000Z   \n",
      "4  w6ClV1iTLg  2020-08-21T03:00:51.066Z  2020-08-11T03:00:00.000Z   \n",
      "\n",
      "  dataNascimento       sintomas profissionalSaude  \\\n",
      "0      undefined         Outros               Não   \n",
      "1      undefined         Outros               Não   \n",
      "2      undefined         Outros               Não   \n",
      "3      undefined  Tosse, Outros               Sim   \n",
      "4      undefined         Outros               Não   \n",
      "\n",
      "                                                 cbo  \\\n",
      "0                                                NaN   \n",
      "1                                                NaN   \n",
      "2                                                NaN   \n",
      "3  5151 - Outro tipo de agente de saúde ou visita...   \n",
      "4                                                NaN   \n",
      "\n",
      "                    condicoes estadoTeste                 dataTeste  ...  \\\n",
      "0                         NaN   Concluído  2020-08-24T03:00:00.000Z  ...   \n",
      "1                         NaN   Concluído  2020-08-17T03:00:00.000Z  ...   \n",
      "2                         NaN   Concluído  2020-06-26T03:00:00.000Z  ...   \n",
      "3                         NaN   Concluído  2020-06-26T03:00:00.000Z  ...   \n",
      "4  Doenças cardíacas crônicas   Concluído  2020-08-11T03:00:00.000Z  ...   \n",
      "\n",
      "   estadoNotificacao estadoNotificacaoIBGE municipioNotificacao  \\\n",
      "0     SANTA CATARINA                  42.0        Florianópolis   \n",
      "1  RIO GRANDE DO SUL                  43.0          Barra Funda   \n",
      "2  RIO GRANDE DO SUL                  43.0              Canguçu   \n",
      "3  RIO GRANDE DO SUL                  43.0             Alvorada   \n",
      "4  RIO GRANDE DO SUL                  43.0         São Leopoldo   \n",
      "\n",
      "  municipioNotificacaoIBGE   excluido   validado idade  \\\n",
      "0                4205407.0  undefined  undefined  40.0   \n",
      "1                4301958.0  undefined  undefined  66.0   \n",
      "2                4304507.0  undefined  undefined  52.0   \n",
      "3                4300604.0  undefined  undefined  33.0   \n",
      "4                4318705.0  undefined  undefined  56.0   \n",
      "\n",
      "           dataEncerramento              evolucaoCaso  \\\n",
      "0                       NaN                       NaN   \n",
      "1                       NaN                       NaN   \n",
      "2  2020-06-26T03:00:00.000Z                      Cura   \n",
      "3  2020-07-01T03:00:00.000Z  Em tratamento domiciliar   \n",
      "4  2020-08-21T03:00:00.000Z                      Cura   \n",
      "\n",
      "                 classificacaoFinal  \n",
      "0                               NaN  \n",
      "1           Confirmado Laboratorial  \n",
      "2  Síndrome Gripal Não Especificada  \n",
      "3           Confirmado Laboratorial  \n",
      "4                               NaN  \n",
      "\n",
      "[5 rows x 29 columns]\n",
      "          ÿid           dataNotificacao        dataInicioSintomas  \\\n",
      "0  HE8B8WiBpk  2020-08-25T03:00:37.280Z  2020-08-24T03:00:00.000Z   \n",
      "1  IfUV4kqF1I  2020-08-17T03:00:48.914Z  2020-08-03T03:00:00.000Z   \n",
      "2  auCqY2SQ4w  2020-06-26T17:37:33.237Z  2020-06-10T03:00:00.000Z   \n",
      "3  R8MGrEmw1z  2020-06-26T03:00:00.000Z  2020-06-26T03:00:00.000Z   \n",
      "4  w6ClV1iTLg  2020-08-21T03:00:51.066Z  2020-08-11T03:00:00.000Z   \n",
      "\n",
      "  dataNascimento       sintomas profissionalSaude  \\\n",
      "0      undefined         Outros               Não   \n",
      "1      undefined         Outros               Não   \n",
      "2      undefined         Outros               Não   \n",
      "3      undefined  Tosse, Outros               Sim   \n",
      "4      undefined         Outros               Não   \n",
      "\n",
      "                                                 cbo  \\\n",
      "0                                                NaN   \n",
      "1                                                NaN   \n",
      "2                                                NaN   \n",
      "3  5151 - Outro tipo de agente de saúde ou visita...   \n",
      "4                                                NaN   \n",
      "\n",
      "                    condicoes estadoTeste                 dataTeste  ...  \\\n",
      "0                         NaN   Concluído  2020-08-24T03:00:00.000Z  ...   \n",
      "1                         NaN   Concluído  2020-08-17T03:00:00.000Z  ...   \n",
      "2                         NaN   Concluído  2020-06-26T03:00:00.000Z  ...   \n",
      "3                         NaN   Concluído  2020-06-26T03:00:00.000Z  ...   \n",
      "4  Doenças cardíacas crônicas   Concluído  2020-08-11T03:00:00.000Z  ...   \n",
      "\n",
      "   estadoNotificacao estadoNotificacaoIBGE municipioNotificacao  \\\n",
      "0     SANTA CATARINA                  42.0        Florianópolis   \n",
      "1  RIO GRANDE DO SUL                  43.0          Barra Funda   \n",
      "2  RIO GRANDE DO SUL                  43.0              Canguçu   \n",
      "3  RIO GRANDE DO SUL                  43.0             Alvorada   \n",
      "4  RIO GRANDE DO SUL                  43.0         São Leopoldo   \n",
      "\n",
      "  municipioNotificacaoIBGE   excluido   validado idade  \\\n",
      "0                4205407.0  undefined  undefined  40.0   \n",
      "1                4301958.0  undefined  undefined  66.0   \n",
      "2                4304507.0  undefined  undefined  52.0   \n",
      "3                4300604.0  undefined  undefined  33.0   \n",
      "4                4318705.0  undefined  undefined  56.0   \n",
      "\n",
      "           dataEncerramento              evolucaoCaso  \\\n",
      "0                       NaN                       NaN   \n",
      "1                       NaN                       NaN   \n",
      "2  2020-06-26T03:00:00.000Z                      Cura   \n",
      "3  2020-07-01T03:00:00.000Z  Em tratamento domiciliar   \n",
      "4  2020-08-21T03:00:00.000Z                      Cura   \n",
      "\n",
      "                 classificacaoFinal  \n",
      "0                               NaN  \n",
      "1           Confirmado Laboratorial  \n",
      "2  Síndrome Gripal Não Especificada  \n",
      "3           Confirmado Laboratorial  \n",
      "4                               NaN  \n",
      "\n",
      "[5 rows x 29 columns]\n"
     ]
    }
   ],
   "source": [
    "d1 = pd.read_csv(\"https://www.dropbox.com/s/rzn9gjyn53cn954/dados-rs-1.csv?dl=1\", delimiter=\";\", on_bad_lines='skip', encoding='latin1', low_memory=True)\n",
    "d2 = pd.read_csv(\"https://www.dropbox.com/sh/d2duiomj0tfg7xh/AADE2CImdHcqxeCjq00l4Gbqa?dl=1\", delimiter=\";\", on_bad_lines='skip', encoding='latin1', low_memory=True)\n",
    "d3 = pd.read_csv(\"\", delimiter=\";\", on_bad_lines='skip', encoding='latin1', low_memory=True)\n",
    "d4 = pd.read_csv(\"\", delimiter=\";\", on_bad_lines='skip', encoding='latin1', low_memory=True)\n",
    "d5 = pd.read_csv(\"\", delimiter=\";\", on_bad_lines='skip', encoding='latin1', low_memory=True)\n",
    "d6 = pd.read_csv(\"\", delimiter=\";\", on_bad_lines='skip', encoding='latin1', low_memory=True)\n",
    "\n",
    "print(d1.head(5))\n",
    "\n",
    "# CBO - Classificação Brasileira de Ocupações"
   ],
   "metadata": {
    "collapsed": false,
    "pycharm": {
     "name": "#%%\n"
    }
   }
  },
  {
   "cell_type": "code",
   "execution_count": null,
   "outputs": [],
   "source": [
    "print(d1.shape)\n",
    "# pd.isna(d1).sum()\n",
    "\n",
    "print(pd.isnull(d1).sum())"
   ],
   "metadata": {
    "collapsed": false,
    "pycharm": {
     "name": "#%%\n"
    }
   }
  },
  {
   "cell_type": "code",
   "execution_count": null,
   "outputs": [],
   "source": [
    "df = pd.concat([d1,d2,d3,d4,d5,d6])\n",
    "df.to_csv('dados-rs.csv', index = False)"
   ],
   "metadata": {
    "collapsed": false,
    "pycharm": {
     "name": "#%%\n"
    }
   }
  },
  {
   "cell_type": "code",
   "execution_count": 5,
   "outputs": [
    {
     "name": "stdout",
     "output_type": "stream",
     "text": [
      "hey\n"
     ]
    }
   ],
   "source": [
    "print(\"hey\")"
   ],
   "metadata": {
    "collapsed": false,
    "pycharm": {
     "name": "#%%\n"
    }
   }
  }
 ],
 "metadata": {
  "kernelspec": {
   "display_name": "Python 3",
   "language": "python",
   "name": "python3"
  },
  "language_info": {
   "codemirror_mode": {
    "name": "ipython",
    "version": 2
   },
   "file_extension": ".py",
   "mimetype": "text/x-python",
   "name": "python",
   "nbconvert_exporter": "python",
   "pygments_lexer": "ipython2",
   "version": "2.7.6"
  }
 },
 "nbformat": 4,
 "nbformat_minor": 0
}