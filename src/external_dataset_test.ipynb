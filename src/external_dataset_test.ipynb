{
 "cells": [
  {
   "cell_type": "code",
   "execution_count": null,
   "metadata": {
    "collapsed": true
   },
   "outputs": [],
   "source": []
  },
  {
   "cell_type": "markdown",
   "source": [
    "# Rio Grande do Sul COVID cases Data Analysis\n",
    "---"
   ],
   "metadata": {
    "collapsed": false
   }
  },
  {
   "cell_type": "code",
   "execution_count": 2,
   "outputs": [],
   "source": [
    "import pandas as pd\n",
    "import numpy as np\n",
    "import matplotlib.pyplot as plt"
   ],
   "metadata": {
    "collapsed": false,
    "pycharm": {
     "name": "#%%\n"
    }
   }
  },
  {
   "cell_type": "markdown",
   "source": [
    "## Step 1: Merge all data-sets"
   ],
   "metadata": {
    "collapsed": false
   }
  },
  {
   "cell_type": "code",
   "execution_count": 14,
   "outputs": [
    {
     "name": "stdout",
     "output_type": "stream",
     "text": [
      "          ÿid           dataNotificacao        dataInicioSintomas  \\\n",
      "0  pixbfiwx7y  2021-06-25T03:00:21.214Z  2021-06-22T03:00:00.000Z   \n",
      "1  I6tx8OL11i  2021-07-06T03:00:00.000Z  2021-06-20T03:00:00.000Z   \n",
      "2  S8h3Y2J109  2021-06-28T03:00:44.239Z  2021-06-21T03:00:00.000Z   \n",
      "3  7FF6dtE48t  2021-02-22T03:00:00.000Z  2021-02-22T03:00:00.000Z   \n",
      "4  iE60kOiwJY  2021-06-01T03:00:00.000Z  2021-06-01T03:00:00.000Z   \n",
      "\n",
      "  dataNascimento                                           sintomas  \\\n",
      "0      undefined  Dor de Garganta, Tosse, Outros, Dor de Cabeça,...   \n",
      "1      undefined       Dor de Garganta, Febre, Tosse, Dor de Cabeça   \n",
      "2      undefined                              Dor de Cabeça, Outros   \n",
      "3      undefined                                      Dor de Cabeça   \n",
      "4      undefined                                      Assintomático   \n",
      "\n",
      "  profissionalSaude                                               cbo  \\\n",
      "0               Não                                               NaN   \n",
      "1               Não                                               NaN   \n",
      "2               Não                                               NaN   \n",
      "3               Não                                               NaN   \n",
      "4               Não  7825 - Motoristas de veículos de cargas em geral   \n",
      "\n",
      "  condicoes estadoTeste                 dataTeste  ...  estadoNotificacao  \\\n",
      "0       NaN   Concluído  2021-06-25T03:00:00.000Z  ...  RIO GRANDE DO SUL   \n",
      "1       NaN   Concluído  2021-07-03T03:00:00.000Z  ...  RIO GRANDE DO SUL   \n",
      "2       NaN    Coletado  2021-06-25T03:00:00.000Z  ...  RIO GRANDE DO SUL   \n",
      "3       NaN   Concluído  2021-02-22T03:00:00.000Z  ...  RIO GRANDE DO SUL   \n",
      "4       NaN   Concluído  2021-06-01T03:00:00.000Z  ...  RIO GRANDE DO SUL   \n",
      "\n",
      "  estadoNotificacaoIBGE municipioNotificacao municipioNotificacaoIBGE  \\\n",
      "0                  43.0           Ronda Alta                4316105.0   \n",
      "1                  43.0              Taquara                4321204.0   \n",
      "2                  43.0        Caxias do Sul                4305108.0   \n",
      "3                  43.0          São Gabriel                4318309.0   \n",
      "4                  43.0           Uruguaiana                4322400.0   \n",
      "\n",
      "    excluido   validado idade  dataEncerramento evolucaoCaso  \\\n",
      "0  undefined  undefined    14               NaN          NaN   \n",
      "1  undefined  undefined    34               NaN          NaN   \n",
      "2  undefined  undefined    25               NaN          NaN   \n",
      "3  undefined  undefined    17               NaN          NaN   \n",
      "4  undefined  undefined    32               NaN          NaN   \n",
      "\n",
      "        classificacaoFinal  \n",
      "0  Confirmado Laboratorial  \n",
      "1                      NaN  \n",
      "2                      NaN  \n",
      "3                      NaN  \n",
      "4                      NaN  \n",
      "\n",
      "[5 rows x 29 columns]\n"
     ]
    }
   ],
   "source": [
    "# importing all datasets\n",
    "d1 = pd.read_csv(\"https://www.dropbox.com/s/rzn9gjyn53cn954/dados-rs-1.csv?dl=1\", delimiter=\";\", on_bad_lines='skip', encoding='latin1', low_memory=True)\n",
    "d2 = pd.read_csv(\"https://www.dropbox.com/s/aoxfpkpn8uagiou/dados-rs-2.csv?dl=1\", delimiter=\";\", on_bad_lines='skip', encoding='latin1', low_memory=True)\n",
    "d3 = pd.read_csv(\"https://www.dropbox.com/s/2hwz6zdmm5y4hix/dados-rs-3.csv?dl=1\", delimiter=\";\", on_bad_lines='skip', encoding='latin1', low_memory=True)\n",
    "d4 = pd.read_csv(\"https://www.dropbox.com/s/6b7kwh8w543tbqt/dados-rs-4.csv?dl=1\", delimiter=\";\", on_bad_lines='skip', encoding='latin1', low_memory=True)\n",
    "d5 = pd.read_csv(\"https://www.dropbox.com/s/h9ca1y6i74ilnpa/dados-rs-5.csv?dl=1\", delimiter=\";\", on_bad_lines='skip', encoding='latin1', low_memory=True)\n",
    "d6 = pd.read_csv(\"https://www.dropbox.com/s/tl738mk98urf29h/dados-rs-6.csv?dl=1\", delimiter=\";\", on_bad_lines='skip', encoding='latin1', low_memory=True)\n",
    "\n",
    "# CBO - Classificação Brasileira de Ocupações"
   ],
   "metadata": {
    "collapsed": false,
    "pycharm": {
     "name": "#%%\n"
    }
   }
  },
  {
   "cell_type": "code",
   "execution_count": null,
   "outputs": [],
   "source": [
    "# Running some tests (???)\n",
    "\n",
    "print(d1.shape)\n",
    "# pd.isna(d1).sum()\n",
    "\n",
    "print(pd.isnull(d1).sum())"
   ],
   "metadata": {
    "collapsed": false,
    "pycharm": {
     "name": "#%%\n"
    }
   }
  },
  {
   "cell_type": "code",
   "execution_count": null,
   "outputs": [],
   "source": [
    "# concatenating all datasets into one\n",
    "# df = pd.concat([d1,d2,d3,d4,d5,d6])\n",
    "\n",
    "# to save time, we can import the final concatenated dataset from DropBox\n",
    "df_external = pd.read_csv(\"https://www.dropbox.com/s/rzn9gjyn53cn954/dados-rs-1.csv?dl=1\", delimiter=\";\", on_bad_lines='skip', encoding='latin1', low_memory=True)\n",
    "\n",
    "# saving file locally\n",
    "df_external.to_csv('db/dados-rs.csv', index = False)"
   ],
   "metadata": {
    "collapsed": false,
    "pycharm": {
     "name": "#%%\n"
    }
   }
  },
  {
   "cell_type": "markdown",
   "source": [
    "# Step 2: Data Analysis"
   ],
   "metadata": {
    "collapsed": false,
    "pycharm": {
     "name": "#%% md\n"
    }
   }
  },
  {
   "cell_type": "code",
   "execution_count": null,
   "outputs": [],
   "source": [
    "df = pd.read_csv('db/dados-rs.csv')"
   ],
   "metadata": {
    "collapsed": false,
    "pycharm": {
     "name": "#%%\n"
    }
   }
  }
 ],
 "metadata": {
  "kernelspec": {
   "display_name": "Python 3",
   "language": "python",
   "name": "python3"
  },
  "language_info": {
   "codemirror_mode": {
    "name": "ipython",
    "version": 2
   },
   "file_extension": ".py",
   "mimetype": "text/x-python",
   "name": "python",
   "nbconvert_exporter": "python",
   "pygments_lexer": "ipython2",
   "version": "2.7.6"
  }
 },
 "nbformat": 4,
 "nbformat_minor": 0
}