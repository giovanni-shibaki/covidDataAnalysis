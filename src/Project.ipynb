{
 "cells": [
  {
   "cell_type": "markdown",
   "metadata": {},
   "source": [
    "# Rio Grande do Sul COVID cases Data Analysis\n",
    "---"
   ]
  },
  {
   "cell_type": "code",
   "execution_count": 2,
   "metadata": {
    "id": "SYh8dmzZwFSC"
   },
   "outputs": [],
   "source": [
    "import dateutil.utils\n",
    "import pandas as pd\n",
    "import numpy as np\n",
    "import matplotlib.pyplot as plt\n",
    "from datetime import datetime\n",
    "import re\n",
    "import scipy\n",
    "from unidecode import unidecode\n",
    "import seaborn as sns"
   ]
  },
  {
   "cell_type": "markdown",
   "metadata": {},
   "source": [
    "## Step 1: Merging all data-sets"
   ]
  },
  {
   "cell_type": "code",
   "execution_count": 5,
   "metadata": {
    "id": "S8huGrm9w7I8"
   },
   "outputs": [
    {
     "name": "stdout",
     "output_type": "stream",
     "text": [
      "          ÿid           dataNotificacao        dataInicioSintomas  \\\n",
      "0  HE8B8WiBpk  2020-08-25T03:00:37.280Z  2020-08-24T03:00:00.000Z   \n",
      "1  IfUV4kqF1I  2020-08-17T03:00:48.914Z  2020-08-03T03:00:00.000Z   \n",
      "2  auCqY2SQ4w  2020-06-26T17:37:33.237Z  2020-06-10T03:00:00.000Z   \n",
      "3  R8MGrEmw1z  2020-06-26T03:00:00.000Z  2020-06-26T03:00:00.000Z   \n",
      "4  w6ClV1iTLg  2020-08-21T03:00:51.066Z  2020-08-11T03:00:00.000Z   \n",
      "\n",
      "  dataNascimento       sintomas profissionalSaude  \\\n",
      "0      undefined         Outros               Não   \n",
      "1      undefined         Outros               Não   \n",
      "2      undefined         Outros               Não   \n",
      "3      undefined  Tosse, Outros               Sim   \n",
      "4      undefined         Outros               Não   \n",
      "\n",
      "                                                 cbo  \\\n",
      "0                                                NaN   \n",
      "1                                                NaN   \n",
      "2                                                NaN   \n",
      "3  5151 - Outro tipo de agente de saúde ou visita...   \n",
      "4                                                NaN   \n",
      "\n",
      "                    condicoes estadoTeste                 dataTeste  ...  \\\n",
      "0                         NaN   Concluído  2020-08-24T03:00:00.000Z  ...   \n",
      "1                         NaN   Concluído  2020-08-17T03:00:00.000Z  ...   \n",
      "2                         NaN   Concluído  2020-06-26T03:00:00.000Z  ...   \n",
      "3                         NaN   Concluído  2020-06-26T03:00:00.000Z  ...   \n",
      "4  Doenças cardíacas crônicas   Concluído  2020-08-11T03:00:00.000Z  ...   \n",
      "\n",
      "   estadoNotificacao estadoNotificacaoIBGE municipioNotificacao  \\\n",
      "0     SANTA CATARINA                  42.0        Florianópolis   \n",
      "1  RIO GRANDE DO SUL                  43.0          Barra Funda   \n",
      "2  RIO GRANDE DO SUL                  43.0              Canguçu   \n",
      "3  RIO GRANDE DO SUL                  43.0             Alvorada   \n",
      "4  RIO GRANDE DO SUL                  43.0         São Leopoldo   \n",
      "\n",
      "  municipioNotificacaoIBGE   excluido   validado idade  \\\n",
      "0                4205407.0  undefined  undefined  40.0   \n",
      "1                4301958.0  undefined  undefined  66.0   \n",
      "2                4304507.0  undefined  undefined  52.0   \n",
      "3                4300604.0  undefined  undefined  33.0   \n",
      "4                4318705.0  undefined  undefined  56.0   \n",
      "\n",
      "           dataEncerramento              evolucaoCaso  \\\n",
      "0                       NaN                       NaN   \n",
      "1                       NaN                       NaN   \n",
      "2  2020-06-26T03:00:00.000Z                      Cura   \n",
      "3  2020-07-01T03:00:00.000Z  Em tratamento domiciliar   \n",
      "4  2020-08-21T03:00:00.000Z                      Cura   \n",
      "\n",
      "                 classificacaoFinal  \n",
      "0                               NaN  \n",
      "1           Confirmado Laboratorial  \n",
      "2  Síndrome Gripal Não Especificada  \n",
      "3           Confirmado Laboratorial  \n",
      "4                               NaN  \n",
      "\n",
      "[5 rows x 29 columns]\n"
     ]
    }
   ],
   "source": [
    "d1 = pd.read_csv(\"../db/dados-rs-1.csv\", delimiter=\";\", on_bad_lines='skip', encoding='latin1', low_memory=True)\n",
    "d2 = pd.read_csv(\"../db/dados-rs-2.csv\", delimiter=\";\", on_bad_lines='skip', encoding='latin1', low_memory=True)\n",
    "d3 = pd.read_csv(\"../db/dados-rs-3.csv\", delimiter=\";\", on_bad_lines='skip', encoding='latin1', low_memory=True)\n",
    "d4 = pd.read_csv(\"../db/dados-rs-4.csv\", delimiter=\";\", on_bad_lines='skip', encoding='latin1', low_memory=True)\n",
    "d5 = pd.read_csv(\"../db/dados-rs-5.csv\", delimiter=\";\", on_bad_lines='skip', encoding='latin1', low_memory=True)\n",
    "d6 = pd.read_csv(\"../db/dados-rs-6.csv\", delimiter=\";\", on_bad_lines='skip', encoding='latin1', low_memory=True)\n",
    "\n",
    "df = pd.concat([d1, d2, d3, d4, d5, d6])\n",
    "df.to_csv('dados-rs.csv', index=False)\n",
    "\n",
    "# CBO - Classificação Brasileira de Ocupações"
   ]
  },
  {
   "cell_type": "markdown",
   "metadata": {
    "pycharm": {
     "name": "#%% md\n"
    }
   },
   "source": [
    "## Step 2: Data Processing"
   ]
  },
  {
   "cell_type": "code",
   "execution_count": null,
   "metadata": {},
   "outputs": [],
   "source": [
    "# Loading the dataset\n",
    "df = pd.read_csv(\"dados-rs.csv\", delimiter=\",\", on_bad_lines='skip', encoding='utf-8', low_memory=True)\n",
    "print(df.head(5))"
   ]
  },
  {
   "cell_type": "code",
   "execution_count": 6,
   "metadata": {
    "id": "UZinxgK0xOKB",
    "pycharm": {
     "name": "#%%\n"
    }
   },
   "outputs": [],
   "source": [
    "# Some of the columns have values different from null or NaN\n",
    "# but they are defined as 'undefined'\n",
    "\n",
    "# After the analysis, the columns that must be droped are:\n",
    "#   CBO\n",
    "#   PaisOrigem\n",
    "#   estado\n",
    "#   estadoIBGE\n",
    "#   origem\n",
    "#   excluido\n",
    "#   validado\n",
    "#   dataNascimento\n",
    "\n",
    "# Dropping columns that we deem to be unserviceable to our data analysis\n",
    "df.drop(columns=[\"cbo\", \"paisOrigem\", \"estado\", \"estadoIBGE\", \"origem\", \"excluido\", \"validado\", \"dataNascimento\"],\n",
    "        inplace=True)\n",
    "\n",
    "# Some of the values are defined as 'undefined', which are not\n",
    "# classified as null or NaN for the pandas function\n",
    "# Then, we are going to change this value to 'null'\n",
    "df.sexo.replace(\"Indefinido\", \"null\")\n",
    "\n",
    "# Changing the data type of some columns to datetime\n",
    "df.dataNotificacao = pd.to_datetime(df.dataNotificacao, errors='coerce')\n",
    "df.dataTeste = pd.to_datetime(df.dataTeste, errors='coerce')\n",
    "df.dataEncerramento = pd.to_datetime(df.dataEncerramento, errors='coerce')\n",
    "df.dataInicioSintomas = pd.to_datetime(df.dataInicioSintomas, errors='coerce')\n",
    "\n",
    "# Some lines (44510 [pd.isnull(df.sintomas).sum()]) have no symptoms described (== 'null')\n",
    "# then, we are going to drop those lines\n",
    "df = df[pd.notnull(df.sintomas)]\n",
    "\n",
    "# There are some inconsistencies into de age date (i.e. ages up to 320)\n",
    "# Since the population in RS with +100 is less than 0.0009% of the total population\n",
    "# we are going to drop those lines with 100+ years\n",
    "df = df[df.idade <= 100]\n",
    "\n",
    "# Replacing variations of 'Dispneia' to only the correct spelling\n",
    "df.sintomas.replace(regex=['Dispineia', 'Dispinéia', 'Dispnéia', 'Dificuldade De Respirar'], value='Dispneia',\n",
    "                    inplace=True)\n",
    "\n",
    "# Replacing variants of 'Assintomático'\n",
    "df.sintomas.replace(regex=['Outros: Paciente assintomático'], value='Assintomático', inplace=True)\n",
    "\n",
    "# Replacing variants of 'Dor de Garganta'\n",
    "df.sintomas.replace(regex=['Dor De Garganta'], value='Dor de Garganta', inplace=True)\n",
    "\n",
    "# Listing the symptoms\n",
    "sintomas = []\n",
    "\n",
    "# Splitting symptom column values into a tuple of symptoms\n",
    "for i in df.sintomas:\n",
    "    sintoma = re.split(\",|, \", str(i))\n",
    "    for j in sintoma:\n",
    "        if j.strip() not in sintomas and j.strip() != '':\n",
    "            sintomas.append(j.strip())\n",
    "\n",
    "# Create the new columns to the symptoms variants\n",
    "aux = 4\n",
    "for i in sintomas:\n",
    "    df.insert(aux, i, 'False')\n",
    "    aux += 1\n",
    "\n",
    "# For each symptom list, modify the target column for each symptom\n",
    "for index, row in df.iterrows():\n",
    "    for sim in sintomas:\n",
    "        if sim in row['sintomas']:\n",
    "            df.at[index, sim] = 'True'\n",
    "\n",
    "# Saving the dataset without the selected columns\n",
    "df.to_csv('../db/dados-rs-clean.csv', index=False)"
   ]
  },
  {
   "cell_type": "code",
   "source": [
    "# Loading the clean dataframe\n",
    "df = pd.read_csv(\"../db/dados-rs-clean.csv\", delimiter=\",\", on_bad_lines='skip', encoding='utf-8', low_memory=True)"
   ],
   "metadata": {
    "collapsed": false,
    "pycharm": {
     "name": "#%%\n"
    }
   },
   "execution_count": null,
   "outputs": []
  },
  {
   "cell_type": "code",
   "execution_count": 3,
   "outputs": [
    {
     "ename": "FileNotFoundError",
     "evalue": "[Errno 2] No such file or directory: 'dados-rs.csv'",
     "output_type": "error",
     "traceback": [
      "\u001B[0;31m---------------------------------------------------------------------------\u001B[0m",
      "\u001B[0;31mFileNotFoundError\u001B[0m                         Traceback (most recent call last)",
      "\u001B[0;32m<ipython-input-3-f686425646bb>\u001B[0m in \u001B[0;36m<module>\u001B[0;34m\u001B[0m\n\u001B[0;32m----> 1\u001B[0;31m \u001B[0mdf\u001B[0m \u001B[0;34m=\u001B[0m \u001B[0mpd\u001B[0m\u001B[0;34m.\u001B[0m\u001B[0mread_csv\u001B[0m\u001B[0;34m(\u001B[0m\u001B[0;34m'dados-rs.csv'\u001B[0m\u001B[0;34m)\u001B[0m\u001B[0;34m\u001B[0m\u001B[0;34m\u001B[0m\u001B[0m\n\u001B[0m",
      "\u001B[0;32m~/.local/lib/python3.8/site-packages/pandas/util/_decorators.py\u001B[0m in \u001B[0;36mwrapper\u001B[0;34m(*args, **kwargs)\u001B[0m\n\u001B[1;32m    309\u001B[0m                     \u001B[0mstacklevel\u001B[0m\u001B[0;34m=\u001B[0m\u001B[0mstacklevel\u001B[0m\u001B[0;34m,\u001B[0m\u001B[0;34m\u001B[0m\u001B[0;34m\u001B[0m\u001B[0m\n\u001B[1;32m    310\u001B[0m                 )\n\u001B[0;32m--> 311\u001B[0;31m             \u001B[0;32mreturn\u001B[0m \u001B[0mfunc\u001B[0m\u001B[0;34m(\u001B[0m\u001B[0;34m*\u001B[0m\u001B[0margs\u001B[0m\u001B[0;34m,\u001B[0m \u001B[0;34m**\u001B[0m\u001B[0mkwargs\u001B[0m\u001B[0;34m)\u001B[0m\u001B[0;34m\u001B[0m\u001B[0;34m\u001B[0m\u001B[0m\n\u001B[0m\u001B[1;32m    312\u001B[0m \u001B[0;34m\u001B[0m\u001B[0m\n\u001B[1;32m    313\u001B[0m         \u001B[0;32mreturn\u001B[0m \u001B[0mwrapper\u001B[0m\u001B[0;34m\u001B[0m\u001B[0;34m\u001B[0m\u001B[0m\n",
      "\u001B[0;32m~/.local/lib/python3.8/site-packages/pandas/io/parsers/readers.py\u001B[0m in \u001B[0;36mread_csv\u001B[0;34m(filepath_or_buffer, sep, delimiter, header, names, index_col, usecols, squeeze, prefix, mangle_dupe_cols, dtype, engine, converters, true_values, false_values, skipinitialspace, skiprows, skipfooter, nrows, na_values, keep_default_na, na_filter, verbose, skip_blank_lines, parse_dates, infer_datetime_format, keep_date_col, date_parser, dayfirst, cache_dates, iterator, chunksize, compression, thousands, decimal, lineterminator, quotechar, quoting, doublequote, escapechar, comment, encoding, encoding_errors, dialect, error_bad_lines, warn_bad_lines, on_bad_lines, delim_whitespace, low_memory, memory_map, float_precision, storage_options)\u001B[0m\n\u001B[1;32m    584\u001B[0m     \u001B[0mkwds\u001B[0m\u001B[0;34m.\u001B[0m\u001B[0mupdate\u001B[0m\u001B[0;34m(\u001B[0m\u001B[0mkwds_defaults\u001B[0m\u001B[0;34m)\u001B[0m\u001B[0;34m\u001B[0m\u001B[0;34m\u001B[0m\u001B[0m\n\u001B[1;32m    585\u001B[0m \u001B[0;34m\u001B[0m\u001B[0m\n\u001B[0;32m--> 586\u001B[0;31m     \u001B[0;32mreturn\u001B[0m \u001B[0m_read\u001B[0m\u001B[0;34m(\u001B[0m\u001B[0mfilepath_or_buffer\u001B[0m\u001B[0;34m,\u001B[0m \u001B[0mkwds\u001B[0m\u001B[0;34m)\u001B[0m\u001B[0;34m\u001B[0m\u001B[0;34m\u001B[0m\u001B[0m\n\u001B[0m\u001B[1;32m    587\u001B[0m \u001B[0;34m\u001B[0m\u001B[0m\n\u001B[1;32m    588\u001B[0m \u001B[0;34m\u001B[0m\u001B[0m\n",
      "\u001B[0;32m~/.local/lib/python3.8/site-packages/pandas/io/parsers/readers.py\u001B[0m in \u001B[0;36m_read\u001B[0;34m(filepath_or_buffer, kwds)\u001B[0m\n\u001B[1;32m    480\u001B[0m \u001B[0;34m\u001B[0m\u001B[0m\n\u001B[1;32m    481\u001B[0m     \u001B[0;31m# Create the parser.\u001B[0m\u001B[0;34m\u001B[0m\u001B[0;34m\u001B[0m\u001B[0;34m\u001B[0m\u001B[0m\n\u001B[0;32m--> 482\u001B[0;31m     \u001B[0mparser\u001B[0m \u001B[0;34m=\u001B[0m \u001B[0mTextFileReader\u001B[0m\u001B[0;34m(\u001B[0m\u001B[0mfilepath_or_buffer\u001B[0m\u001B[0;34m,\u001B[0m \u001B[0;34m**\u001B[0m\u001B[0mkwds\u001B[0m\u001B[0;34m)\u001B[0m\u001B[0;34m\u001B[0m\u001B[0;34m\u001B[0m\u001B[0m\n\u001B[0m\u001B[1;32m    483\u001B[0m \u001B[0;34m\u001B[0m\u001B[0m\n\u001B[1;32m    484\u001B[0m     \u001B[0;32mif\u001B[0m \u001B[0mchunksize\u001B[0m \u001B[0;32mor\u001B[0m \u001B[0miterator\u001B[0m\u001B[0;34m:\u001B[0m\u001B[0;34m\u001B[0m\u001B[0;34m\u001B[0m\u001B[0m\n",
      "\u001B[0;32m~/.local/lib/python3.8/site-packages/pandas/io/parsers/readers.py\u001B[0m in \u001B[0;36m__init__\u001B[0;34m(self, f, engine, **kwds)\u001B[0m\n\u001B[1;32m    809\u001B[0m             \u001B[0mself\u001B[0m\u001B[0;34m.\u001B[0m\u001B[0moptions\u001B[0m\u001B[0;34m[\u001B[0m\u001B[0;34m\"has_index_names\"\u001B[0m\u001B[0;34m]\u001B[0m \u001B[0;34m=\u001B[0m \u001B[0mkwds\u001B[0m\u001B[0;34m[\u001B[0m\u001B[0;34m\"has_index_names\"\u001B[0m\u001B[0;34m]\u001B[0m\u001B[0;34m\u001B[0m\u001B[0;34m\u001B[0m\u001B[0m\n\u001B[1;32m    810\u001B[0m \u001B[0;34m\u001B[0m\u001B[0m\n\u001B[0;32m--> 811\u001B[0;31m         \u001B[0mself\u001B[0m\u001B[0;34m.\u001B[0m\u001B[0m_engine\u001B[0m \u001B[0;34m=\u001B[0m \u001B[0mself\u001B[0m\u001B[0;34m.\u001B[0m\u001B[0m_make_engine\u001B[0m\u001B[0;34m(\u001B[0m\u001B[0mself\u001B[0m\u001B[0;34m.\u001B[0m\u001B[0mengine\u001B[0m\u001B[0;34m)\u001B[0m\u001B[0;34m\u001B[0m\u001B[0;34m\u001B[0m\u001B[0m\n\u001B[0m\u001B[1;32m    812\u001B[0m \u001B[0;34m\u001B[0m\u001B[0m\n\u001B[1;32m    813\u001B[0m     \u001B[0;32mdef\u001B[0m \u001B[0mclose\u001B[0m\u001B[0;34m(\u001B[0m\u001B[0mself\u001B[0m\u001B[0;34m)\u001B[0m\u001B[0;34m:\u001B[0m\u001B[0;34m\u001B[0m\u001B[0;34m\u001B[0m\u001B[0m\n",
      "\u001B[0;32m~/.local/lib/python3.8/site-packages/pandas/io/parsers/readers.py\u001B[0m in \u001B[0;36m_make_engine\u001B[0;34m(self, engine)\u001B[0m\n\u001B[1;32m   1038\u001B[0m             )\n\u001B[1;32m   1039\u001B[0m         \u001B[0;31m# error: Too many arguments for \"ParserBase\"\u001B[0m\u001B[0;34m\u001B[0m\u001B[0;34m\u001B[0m\u001B[0;34m\u001B[0m\u001B[0m\n\u001B[0;32m-> 1040\u001B[0;31m         \u001B[0;32mreturn\u001B[0m \u001B[0mmapping\u001B[0m\u001B[0;34m[\u001B[0m\u001B[0mengine\u001B[0m\u001B[0;34m]\u001B[0m\u001B[0;34m(\u001B[0m\u001B[0mself\u001B[0m\u001B[0;34m.\u001B[0m\u001B[0mf\u001B[0m\u001B[0;34m,\u001B[0m \u001B[0;34m**\u001B[0m\u001B[0mself\u001B[0m\u001B[0;34m.\u001B[0m\u001B[0moptions\u001B[0m\u001B[0;34m)\u001B[0m  \u001B[0;31m# type: ignore[call-arg]\u001B[0m\u001B[0;34m\u001B[0m\u001B[0;34m\u001B[0m\u001B[0m\n\u001B[0m\u001B[1;32m   1041\u001B[0m \u001B[0;34m\u001B[0m\u001B[0m\n\u001B[1;32m   1042\u001B[0m     \u001B[0;32mdef\u001B[0m \u001B[0m_failover_to_python\u001B[0m\u001B[0;34m(\u001B[0m\u001B[0mself\u001B[0m\u001B[0;34m)\u001B[0m\u001B[0;34m:\u001B[0m\u001B[0;34m\u001B[0m\u001B[0;34m\u001B[0m\u001B[0m\n",
      "\u001B[0;32m~/.local/lib/python3.8/site-packages/pandas/io/parsers/c_parser_wrapper.py\u001B[0m in \u001B[0;36m__init__\u001B[0;34m(self, src, **kwds)\u001B[0m\n\u001B[1;32m     49\u001B[0m \u001B[0;34m\u001B[0m\u001B[0m\n\u001B[1;32m     50\u001B[0m         \u001B[0;31m# open handles\u001B[0m\u001B[0;34m\u001B[0m\u001B[0;34m\u001B[0m\u001B[0;34m\u001B[0m\u001B[0m\n\u001B[0;32m---> 51\u001B[0;31m         \u001B[0mself\u001B[0m\u001B[0;34m.\u001B[0m\u001B[0m_open_handles\u001B[0m\u001B[0;34m(\u001B[0m\u001B[0msrc\u001B[0m\u001B[0;34m,\u001B[0m \u001B[0mkwds\u001B[0m\u001B[0;34m)\u001B[0m\u001B[0;34m\u001B[0m\u001B[0;34m\u001B[0m\u001B[0m\n\u001B[0m\u001B[1;32m     52\u001B[0m         \u001B[0;32massert\u001B[0m \u001B[0mself\u001B[0m\u001B[0;34m.\u001B[0m\u001B[0mhandles\u001B[0m \u001B[0;32mis\u001B[0m \u001B[0;32mnot\u001B[0m \u001B[0;32mNone\u001B[0m\u001B[0;34m\u001B[0m\u001B[0;34m\u001B[0m\u001B[0m\n\u001B[1;32m     53\u001B[0m \u001B[0;34m\u001B[0m\u001B[0m\n",
      "\u001B[0;32m~/.local/lib/python3.8/site-packages/pandas/io/parsers/base_parser.py\u001B[0m in \u001B[0;36m_open_handles\u001B[0;34m(self, src, kwds)\u001B[0m\n\u001B[1;32m    220\u001B[0m         \u001B[0mLet\u001B[0m \u001B[0mthe\u001B[0m \u001B[0mreaders\u001B[0m \u001B[0mopen\u001B[0m \u001B[0mIOHandles\u001B[0m \u001B[0mafter\u001B[0m \u001B[0mthey\u001B[0m \u001B[0mare\u001B[0m \u001B[0mdone\u001B[0m \u001B[0;32mwith\u001B[0m \u001B[0mtheir\u001B[0m \u001B[0mpotential\u001B[0m \u001B[0mraises\u001B[0m\u001B[0;34m.\u001B[0m\u001B[0;34m\u001B[0m\u001B[0;34m\u001B[0m\u001B[0m\n\u001B[1;32m    221\u001B[0m         \"\"\"\n\u001B[0;32m--> 222\u001B[0;31m         self.handles = get_handle(\n\u001B[0m\u001B[1;32m    223\u001B[0m             \u001B[0msrc\u001B[0m\u001B[0;34m,\u001B[0m\u001B[0;34m\u001B[0m\u001B[0;34m\u001B[0m\u001B[0m\n\u001B[1;32m    224\u001B[0m             \u001B[0;34m\"r\"\u001B[0m\u001B[0;34m,\u001B[0m\u001B[0;34m\u001B[0m\u001B[0;34m\u001B[0m\u001B[0m\n",
      "\u001B[0;32m~/.local/lib/python3.8/site-packages/pandas/io/common.py\u001B[0m in \u001B[0;36mget_handle\u001B[0;34m(path_or_buf, mode, encoding, compression, memory_map, is_text, errors, storage_options)\u001B[0m\n\u001B[1;32m    700\u001B[0m         \u001B[0;32mif\u001B[0m \u001B[0mioargs\u001B[0m\u001B[0;34m.\u001B[0m\u001B[0mencoding\u001B[0m \u001B[0;32mand\u001B[0m \u001B[0;34m\"b\"\u001B[0m \u001B[0;32mnot\u001B[0m \u001B[0;32min\u001B[0m \u001B[0mioargs\u001B[0m\u001B[0;34m.\u001B[0m\u001B[0mmode\u001B[0m\u001B[0;34m:\u001B[0m\u001B[0;34m\u001B[0m\u001B[0;34m\u001B[0m\u001B[0m\n\u001B[1;32m    701\u001B[0m             \u001B[0;31m# Encoding\u001B[0m\u001B[0;34m\u001B[0m\u001B[0;34m\u001B[0m\u001B[0;34m\u001B[0m\u001B[0m\n\u001B[0;32m--> 702\u001B[0;31m             handle = open(\n\u001B[0m\u001B[1;32m    703\u001B[0m                 \u001B[0mhandle\u001B[0m\u001B[0;34m,\u001B[0m\u001B[0;34m\u001B[0m\u001B[0;34m\u001B[0m\u001B[0m\n\u001B[1;32m    704\u001B[0m                 \u001B[0mioargs\u001B[0m\u001B[0;34m.\u001B[0m\u001B[0mmode\u001B[0m\u001B[0;34m,\u001B[0m\u001B[0;34m\u001B[0m\u001B[0;34m\u001B[0m\u001B[0m\n",
      "\u001B[0;31mFileNotFoundError\u001B[0m: [Errno 2] No such file or directory: 'dados-rs.csv'"
     ]
    }
   ],
   "source": [
    "# Sorting DataFrame by dataNotificacao\n",
    "df.sort_values(by=['dataNotificacao'], inplace=True)\n",
    "print(df.head(10))"
   ],
   "metadata": {
    "collapsed": false,
    "pycharm": {
     "name": "#%%\n"
    }
   }
  },
  {
   "cell_type": "code",
   "execution_count": null,
   "outputs": [],
   "source": [
    "# Saving sorted dataframe into a new .csv\n",
    "df.to_csv('../db/dados-rs-clean-sorted.csv', index=False)"
   ],
   "metadata": {
    "collapsed": false,
    "pycharm": {
     "name": "#%%\n"
    }
   }
  },
  {
   "cell_type": "code",
   "execution_count": null,
   "outputs": [],
   "source": [
    "# Loading the clean and sorted dataframe\n",
    "df = pd.read_csv(\"../db/dados-rs-clean-sorted.csv\", delimiter=\",\", on_bad_lines='skip', encoding='utf-8',\n",
    "                 low_memory=True)"
   ],
   "metadata": {
    "collapsed": false,
    "pycharm": {
     "name": "#%%\n"
    }
   }
  },
  {
   "cell_type": "code",
   "execution_count": null,
   "outputs": [],
   "source": [
    "# Converting date columns to Date (yyyy-MM-dd)\n",
    "df.dataNotificacao = pd.to_datetime(df.dataNotificacao, errors='coerce').dt.date\n",
    "df.dataTeste = pd.to_datetime(df.dataTeste, errors='coerce').dt.date\n",
    "df.dataEncerramento = pd.to_datetime(df.dataEncerramento, errors='coerce').dt.date\n",
    "df.dataInicioSintomas = pd.to_datetime(df.dataInicioSintomas, errors='coerce').dt.date"
   ],
   "metadata": {
    "collapsed": false,
    "pycharm": {
     "name": "#%%\n"
    }
   }
  },
  {
   "cell_type": "code",
   "execution_count": null,
   "outputs": [],
   "source": [
    "# Dropping lines without 'dataNotificacao'\n",
    "df = df[pd.notnull(df.dataNotificacao)]"
   ],
   "metadata": {
    "collapsed": false,
    "pycharm": {
     "name": "#%%\n"
    }
   }
  },
  {
   "cell_type": "code",
   "execution_count": null,
   "outputs": [],
   "source": [
    "# creating new columns to describe week and year number\n",
    "df.insert(31, 'WeekNumber', 'null')\n",
    "df.insert(32, 'YearNumber', 'null')\n",
    "\n",
    "df['WeekNumber'] = df.dataNotificacao.apply(lambda x: x.isocalendar()[1])\n",
    "df['YearNumber'] = df.dataNotificacao.apply(lambda x: x.isocalendar()[0])"
   ],
   "metadata": {
    "collapsed": false,
    "pycharm": {
     "name": "#%%\n"
    }
   }
  },
  {
   "cell_type": "markdown",
   "source": [
    "# Step 3: Data Analysis\n",
    "## 26. Has there been a significant surge in the number of COVID-19 cases in dates close to public (national and state) holidays?"
   ],
   "metadata": {
    "collapsed": false
   }
  },
  {
   "cell_type": "code",
   "execution_count": null,
   "outputs": [],
   "source": [
    "#df1 = df.loc[df.YearNumber == 2020]\n",
    "sns.histplot(df1.WeekNumber, kde=True, hue=\"species\")\n",
    "plt.show()\n",
    "\n",
    "#week = df.groupby(df.dataNotificacao.where((df.WeekNumber > 12) & (df.WeekNumber < 17) & (df.YearNumber == 2020)))['ÿid'].count()\n",
    "#week.plot(kind='line', figsize=(10,5), legend = None)"
   ],
   "metadata": {
    "collapsed": false,
    "pycharm": {
     "name": "#%%\n"
    }
   }
  },
  {
   "cell_type": "markdown",
   "source": [
    "## 31.\n",
    "## 34. What is the most used COVID test in the state? Proportionally, what is the percentage of positive results? How about negative ones?"
   ],
   "metadata": {
    "collapsed": false
   }
  },
  {
   "cell_type": "code",
   "execution_count": null,
   "outputs": [],
   "source": [],
   "metadata": {
    "collapsed": false,
    "pycharm": {
     "name": "#%%\n"
    }
   }
  }
 ],
 "metadata": {
  "colab": {
   "collapsed_sections": [],
   "name": "Project.ipynb",
   "provenance": []
  },
  "kernelspec": {
   "name": "python3",
   "language": "python",
   "display_name": "Python 3 (ipykernel)"
  },
  "language_info": {
   "codemirror_mode": {
    "name": "ipython",
    "version": 3
   },
   "file_extension": ".py",
   "mimetype": "text/x-python",
   "name": "python",
   "nbconvert_exporter": "python",
   "pygments_lexer": "ipython3",
   "version": "3.9.8"
  }
 },
 "nbformat": 4,
 "nbformat_minor": 0
}